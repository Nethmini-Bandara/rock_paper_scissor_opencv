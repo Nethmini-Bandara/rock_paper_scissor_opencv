{
 "cells": [
  {
   "cell_type": "code",
   "execution_count": 1,
   "id": "3a9571a9-cded-45b0-b450-f34c96580688",
   "metadata": {},
   "outputs": [],
   "source": [
    "import cv2\n",
    "import cvzone\n",
    "\n",
    "cap = cv2.VideoCapture(0)\n",
    "\n",
    "cap.set(3, 640) \n",
    "cap.set(4, 480)\n",
    "\n",
    "while True:\n",
    "    \n",
    "    imgBG = cv2.imread(\"Resources/BG.png\")\n",
    "    cv2.imshow(\"bg\",imgBG)\n",
    "    \n",
    "    success,img = cap.read()\n",
    "    cv2.imshow(\"Image\",img)\n",
    "    \n",
    "    imgscaled = cv2.resize(img, (0, 0), None, 0.875, 0.875)\n",
    "    imgscaled = imgscaled[:, 120:520]\n",
    "    cv2.imshow(\"Scaled and Cropped Image\",imgscaled)\n",
    "    \n",
    "    if cv2.waitKey(1) & 0xFF == ord('q'):\n",
    "        break\n",
    "        \n",
    "        cv2.putText\n",
    "        \n",
    "cap.release() \n",
    "cv2.destroyAllWindows() "
   ]
  },
  {
   "cell_type": "code",
   "execution_count": null,
   "id": "d4c8d86a-2d0a-4c89-90e1-f083bdb0cca4",
   "metadata": {},
   "outputs": [],
   "source": []
  }
 ],
 "metadata": {
  "kernelspec": {
   "display_name": "deep-learning",
   "language": "python",
   "name": "python3"
  },
  "language_info": {
   "codemirror_mode": {
    "name": "ipython",
    "version": 3
   },
   "file_extension": ".py",
   "mimetype": "text/x-python",
   "name": "python",
   "nbconvert_exporter": "python",
   "pygments_lexer": "ipython3",
   "version": "3.9.15"
  },
  "vscode": {
   "interpreter": {
    "hash": "34343ce61e4e888e1f029de65e795fc31b6185e993ba297605ae7b2a21f1efc0"
   }
  }
 },
 "nbformat": 4,
 "nbformat_minor": 5
}
