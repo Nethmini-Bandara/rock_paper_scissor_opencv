{
 "cells": [
  {
   "cell_type": "code",
   "execution_count": 2,
   "id": "03ad3a85-0efe-4076-812f-e815257056e2",
   "metadata": {},
   "outputs": [],
   "source": [
    "import cv2\n",
    "import cvzone\n",
    "\n",
    "cap = cv2.VideoCapture(0)\n",
    "\n",
    "cap.set(3, 640) \n",
    "cap.set(4, 480)\n",
    "\n",
    "while True: \n",
    "    success,img = cap.read()\n",
    "    cv2.imshow(\"Image\",img)\n",
    "    \n",
    "    imgscaled = cv2.resize(img, (0, 0), None, 0.875, 0.875)\n",
    "    cv2.imshow(\"Scaled Image\",imgscaled)\n",
    "    \n",
    "    if cv2.waitKey(1) & 0xFF == ord('q'):\n",
    "        break\n",
    "        \n",
    "cap.release() \n",
    "cv2.destroyAllWindows() "
   ]
  },
  {
   "cell_type": "code",
   "execution_count": null,
   "id": "fb1223e7-6f75-43ed-a08c-fbbda2347f7f",
   "metadata": {},
   "outputs": [],
   "source": []
  }
 ],
 "metadata": {
  "kernelspec": {
   "display_name": "Python 3 (ipykernel)",
   "language": "python",
   "name": "python3"
  },
  "language_info": {
   "codemirror_mode": {
    "name": "ipython",
    "version": 3
   },
   "file_extension": ".py",
   "mimetype": "text/x-python",
   "name": "python",
   "nbconvert_exporter": "python",
   "pygments_lexer": "ipython3",
   "version": "3.9.15"
  }
 },
 "nbformat": 4,
 "nbformat_minor": 5
}
