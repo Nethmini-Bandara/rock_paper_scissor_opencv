{
 "cells": [
  {
   "cell_type": "code",
   "execution_count": 1,
   "id": "0db814b1-b63a-47ac-9adf-0efb1a701902",
   "metadata": {},
   "outputs": [],
   "source": [
    "import cv2\n",
    "import cvzone\n",
    "\n",
    "\n",
    "cap = cv2.VideoCapture(0)\n",
    "\n",
    "while True: \n",
    "    success,img = cap.read()\n",
    "    cv2.imshow(\"Image\",img)\n",
    "    \n",
    "    if cv2.waitKey(1) & 0xFF == ord('q'):\n",
    "        break\n",
    "        \n",
    "cap.release() \n",
    "cv2.destroyAllWindows()    "
   ]
  },
  {
   "cell_type": "code",
   "execution_count": 2,
   "id": "83c5c70d-9083-40a8-98f6-2168d69cad96",
   "metadata": {},
   "outputs": [],
   "source": []
  },
  {
   "cell_type": "code",
   "execution_count": 3,
   "id": "a80cd28b-eb55-4c91-8f66-7507e658bd42",
   "metadata": {},
   "outputs": [],
   "source": []
  },
  {
   "cell_type": "code",
   "execution_count": null,
   "id": "0173d495-fabe-4dc1-8e71-073e1c46160c",
   "metadata": {},
   "outputs": [],
   "source": []
  }
 ],
 "metadata": {
  "kernelspec": {
   "display_name": "deep-learning",
   "language": "python",
   "name": "python3"
  },
  "language_info": {
   "codemirror_mode": {
    "name": "ipython",
    "version": 3
   },
   "file_extension": ".py",
   "mimetype": "text/x-python",
   "name": "python",
   "nbconvert_exporter": "python",
   "pygments_lexer": "ipython3",
   "version": "3.9.15"
  },
  "vscode": {
   "interpreter": {
    "hash": "34343ce61e4e888e1f029de65e795fc31b6185e993ba297605ae7b2a21f1efc0"
   }
  }
 },
 "nbformat": 4,
 "nbformat_minor": 5
}
